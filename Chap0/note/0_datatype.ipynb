{
 "cells": [
  {
   "cell_type": "markdown",
   "metadata": {},
   "source": [
    "### String\n",
    "字符串是以单引号‘或双引号“括起来的文本："
   ]
  },
  {
   "cell_type": "code",
   "execution_count": 23,
   "metadata": {},
   "outputs": [
    {
     "name": "stdout",
     "output_type": "stream",
     "text": [
      "I said: \"Hello.\"\n"
     ]
    }
   ],
   "source": [
    "print('I said: \"Hello.\"')"
   ]
  },
  {
   "cell_type": "markdown",
   "metadata": {},
   "source": [
    "若字符串内部包括'和\"，可以用转译字符\\；转义字符还有很多用法，\\n表示换行，\\t表示制表符，\\\\转义\\："
   ]
  },
  {
   "cell_type": "code",
   "execution_count": 28,
   "metadata": {},
   "outputs": [
    {
     "name": "stdout",
     "output_type": "stream",
     "text": [
      "I said: \"I'm OK.\"\n",
      "Hello\tWorld\n",
      "Hello\n",
      "World\n",
      "\\\n"
     ]
    }
   ],
   "source": [
    "print('I said: \"I\\'m OK.\"')\n",
    "print('Hello\\tWorld')\n",
    "print('Hello\\nWorld')\n",
    "print('\\\\')"
   ]
  },
  {
   "cell_type": "markdown",
   "metadata": {},
   "source": [
    "### List\n",
    "列表是一种有序的集合，可以添加或删改其中的元素。\n",
    "比如，列出好友名单可以用个list表示："
   ]
  },
  {
   "cell_type": "code",
   "execution_count": 18,
   "metadata": {},
   "outputs": [
    {
     "name": "stdout",
     "output_type": "stream",
     "text": [
      "['Adam', 'Bob', 'Caty']\n"
     ]
    }
   ],
   "source": [
    "friends = ['Adam', 'Bob', 'Caty']\n",
    "print(friends)"
   ]
  },
  {
   "cell_type": "markdown",
   "metadata": {},
   "source": [
    "List中的元素也可以为空，或是不同的数据类型，比如："
   ]
  },
  {
   "cell_type": "code",
   "execution_count": 16,
   "metadata": {},
   "outputs": [
    {
     "name": "stdout",
     "output_type": "stream",
     "text": [
      "[]\n",
      "[1, 'apple', True, [1, 3]]\n"
     ]
    }
   ],
   "source": [
    "a = []\n",
    "b = [1, 'apple', True, [1,3]]\n",
    "print(a)\n",
    "print(b)"
   ]
  },
  {
   "cell_type": "markdown",
   "metadata": {},
   "source": [
    "用len()可以知道list里元素的个数："
   ]
  },
  {
   "cell_type": "code",
   "execution_count": 17,
   "metadata": {
    "scrolled": true
   },
   "outputs": [
    {
     "name": "stdout",
     "output_type": "stream",
     "text": [
      "3\n",
      "0\n",
      "4\n"
     ]
    }
   ],
   "source": [
    "len(friends) # 3\n",
    "l_a = len(a) # 0\n",
    "l_b = len(b) # 4\n",
    "print(len(friends))\n",
    "print(l_a)\n",
    "print(l_b)"
   ]
  },
  {
   "cell_type": "markdown",
   "metadata": {},
   "source": [
    "想访问指定位置的元素，用list[i]，i从0开始，list[0]表示第一个元素，以此类推。\n",
    "如果要直接取最后一个元素，索引为-1，倒数第二个元素索引为-2。\n",
    "当索引超出了范围，Python会报一个IndexError错误："
   ]
  },
  {
   "cell_type": "code",
   "execution_count": 6,
   "metadata": {},
   "outputs": [
    {
     "ename": "IndexError",
     "evalue": "list index out of range",
     "output_type": "error",
     "traceback": [
      "\u001b[0;31m---------------------------------------------------------------------------\u001b[0m",
      "\u001b[0;31mIndexError\u001b[0m                                Traceback (most recent call last)",
      "\u001b[0;32m<ipython-input-6-bc9bb822f786>\u001b[0m in \u001b[0;36m<module>\u001b[0;34m()\u001b[0m\n\u001b[1;32m      5\u001b[0m \u001b[0mfriends\u001b[0m\u001b[0;34m[\u001b[0m\u001b[0;34m-\u001b[0m\u001b[0;36m2\u001b[0m\u001b[0;34m]\u001b[0m \u001b[0;31m# 'Bob'\u001b[0m\u001b[0;34m\u001b[0m\u001b[0m\n\u001b[1;32m      6\u001b[0m \u001b[0mfriends\u001b[0m\u001b[0;34m[\u001b[0m\u001b[0;34m-\u001b[0m\u001b[0;36m3\u001b[0m\u001b[0;34m]\u001b[0m \u001b[0;31m# 'Adam'\u001b[0m\u001b[0;34m\u001b[0m\u001b[0m\n\u001b[0;32m----> 7\u001b[0;31m \u001b[0mfriends\u001b[0m\u001b[0;34m[\u001b[0m\u001b[0;36m3\u001b[0m\u001b[0;34m]\u001b[0m\u001b[0;34m\u001b[0m\u001b[0m\n\u001b[0m",
      "\u001b[0;31mIndexError\u001b[0m: list index out of range"
     ]
    }
   ],
   "source": [
    "friends[0] # 'Adam'\n",
    "friends[1] # 'Bob'\n",
    "friends[2] # 'Caty'\n",
    "friends[-1] # 'Caty'\n",
    "friends[-2] # 'Bob'\n",
    "friends[-3] # 'Adam'\n",
    "friends[3]"
   ]
  },
  {
   "cell_type": "markdown",
   "metadata": {},
   "source": [
    "若要把某个元素替换成别的元素，可以直接赋值给对应的索引："
   ]
  },
  {
   "cell_type": "code",
   "execution_count": 19,
   "metadata": {},
   "outputs": [
    {
     "name": "stdout",
     "output_type": "stream",
     "text": [
      "['Aaron', 'Bob', 'Caty']\n"
     ]
    }
   ],
   "source": [
    "friends[0] = 'Aaron'\n",
    "print(friends) # ['Aaron', 'Bob', 'Caty']"
   ]
  },
  {
   "cell_type": "markdown",
   "metadata": {},
   "source": [
    "若要在末尾添加元素，可用list.append；若要在指定位置插入元素，则用list.insert(i, 元素）："
   ]
  },
  {
   "cell_type": "code",
   "execution_count": 20,
   "metadata": {},
   "outputs": [
    {
     "name": "stdout",
     "output_type": "stream",
     "text": [
      "['Aaron', 'Bob', 'Caty', 'Eddie']\n",
      "['Aaron', 'Bob', 'Caty', 'David', 'Eddie']\n"
     ]
    }
   ],
   "source": [
    "friends.append('Eddie')\n",
    "print(friends) # ['Aaron', 'Bob', 'Caty', 'Eddie']\n",
    "friends.insert(3, 'David')\n",
    "print(friends) # ['Aaron', 'Bob', 'Caty', 'David', 'Eddie']"
   ]
  },
  {
   "cell_type": "markdown",
   "metadata": {},
   "source": [
    "若要删除末尾元素，用list.pop();删除指定位置，则用list.pop(i)"
   ]
  },
  {
   "cell_type": "code",
   "execution_count": 21,
   "metadata": {},
   "outputs": [
    {
     "name": "stdout",
     "output_type": "stream",
     "text": [
      "['Aaron', 'Bob', 'Caty', 'David']\n",
      "['Bob', 'Caty', 'David']\n"
     ]
    }
   ],
   "source": [
    "friends.pop()\n",
    "print(friends) # ['Aaron', 'Bob', 'Caty', 'David']\n",
    "friends.pop(0)\n",
    "print(friends) # ['Bob', 'Caty', 'David']"
   ]
  },
  {
   "cell_type": "markdown",
   "metadata": {},
   "source": [
    "### Tuple"
   ]
  },
  {
   "cell_type": "markdown",
   "metadata": {},
   "source": [
    "……"
   ]
  },
  {
   "cell_type": "code",
   "execution_count": 22,
   "metadata": {},
   "outputs": [
    {
     "name": "stdout",
     "output_type": "stream",
     "text": [
      "()\n",
      "(1,)\n",
      "('a', 'b', ['X', 'B'])\n"
     ]
    }
   ],
   "source": [
    "classmates = ('Adam', 'Bob', 'Caty') # unchangable tuple\n",
    "t = () # an empty tuple\n",
    "print(t) # ()\n",
    "a = (1, ) # a = (1) may be misunderstood as number 1\n",
    "print(a) # (1, )\n",
    "c = ('a', 'b', ['A', 'B'])\n",
    "c[2][0] = 'X'\n",
    "print(c) # ('a', 'b', ['X', 'B'])"
   ]
  },
  {
   "cell_type": "code",
   "execution_count": null,
   "metadata": {
    "collapsed": true
   },
   "outputs": [],
   "source": []
  }
 ],
 "metadata": {
  "kernelspec": {
   "display_name": "Python 3",
   "language": "python",
   "name": "python3"
  },
  "language_info": {
   "codemirror_mode": {
    "name": "ipython",
    "version": 3
   },
   "file_extension": ".py",
   "mimetype": "text/x-python",
   "name": "python",
   "nbconvert_exporter": "python",
   "pygments_lexer": "ipython3",
   "version": "3.6.1"
  }
 },
 "nbformat": 4,
 "nbformat_minor": 2
}
